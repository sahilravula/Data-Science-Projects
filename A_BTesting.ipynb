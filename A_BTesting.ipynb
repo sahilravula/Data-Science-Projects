{
  "nbformat": 4,
  "nbformat_minor": 0,
  "metadata": {
    "colab": {
      "provenance": []
    },
    "kernelspec": {
      "name": "python3",
      "display_name": "Python 3"
    },
    "language_info": {
      "name": "python"
    }
  },
  "cells": [
    {
      "cell_type": "markdown",
      "source": [
        "# A/B TESTING"
      ],
      "metadata": {
        "id": "UCONODbPiSkH"
      }
    },
    {
      "cell_type": "code",
      "execution_count": 2,
      "metadata": {
        "colab": {
          "base_uri": "https://localhost:8080/"
        },
        "id": "mXzAPduVf_Kf",
        "outputId": "4c7beedb-d5e3-4cb1-f331-7f5a9f2884e1"
      },
      "outputs": [
        {
          "output_type": "stream",
          "name": "stdout",
          "text": [
            "   userid  spending  age  visits\n",
            "0       1      1250   31     126\n",
            "1       2       900   27       5\n",
            "2       3         0   30     459\n",
            "3       4      2890   22      18\n",
            "4       5      1460   38      20\n",
            "   userid  spending  age  visits\n",
            "0      31      1499   32      12\n",
            "1      32       799   23      40\n",
            "2      33      1200   45      22\n",
            "3      34         0   59     126\n",
            "4      35      1350   17      85\n"
          ]
        }
      ],
      "source": [
        "#The Need for Experimentation\n",
        "import pandas as pd\n",
        "desktop=pd.read_csv('desktop.csv')\n",
        "laptop=pd.read_csv('laptop.csv')\n",
        "print(desktop.head())\n",
        "print(laptop.head())"
      ]
    },
    {
      "cell_type": "code",
      "source": [
        "import scipy.stats\n",
        "print(scipy.stats.ttest_ind(desktop['spending'],laptop['spending']))\n",
        "print(scipy.stats.ttest_ind(desktop['age'],laptop['age']))\n",
        "print(scipy.stats.ttest_ind(desktop['visits'],laptop['visits']))"
      ],
      "metadata": {
        "colab": {
          "base_uri": "https://localhost:8080/"
        },
        "id": "oTZPHZDTgg4a",
        "outputId": "c36a35ea-c096-42bc-c80c-c6efff6d0ad3"
      },
      "execution_count": 3,
      "outputs": [
        {
          "output_type": "stream",
          "name": "stdout",
          "text": [
            "TtestResult(statistic=-2.109853741030508, pvalue=0.03919630411621095, df=58.0)\n",
            "TtestResult(statistic=-0.7101437106800108, pvalue=0.4804606394128761, df=58.0)\n",
            "TtestResult(statistic=0.20626752311535543, pvalue=0.8373043059847984, df=58.0)\n"
          ]
        }
      ]
    },
    {
      "cell_type": "code",
      "source": [
        "#Running Experiments to Test New Hypotheses\n",
        "import numpy as np\n",
        "medianage=np.median(desktop['age'])\n",
        "groupa=desktop.loc[desktop['age']<=medianage,:]\n",
        "groupb=desktop.loc[desktop['age']>medianage,:]"
      ],
      "metadata": {
        "id": "P-z-8Zoigjie"
      },
      "execution_count": 4,
      "outputs": []
    },
    {
      "cell_type": "code",
      "source": [
        "emailresults1=pd.read_csv('emailresults1.csv')\n",
        "print(emailresults1.head())"
      ],
      "metadata": {
        "colab": {
          "base_uri": "https://localhost:8080/"
        },
        "id": "GCUyf6bJgqdL",
        "outputId": "39b3de92-9fdc-44ff-f81a-017c793ba232"
      },
      "execution_count": 7,
      "outputs": [
        {
          "output_type": "stream",
          "name": "stdout",
          "text": [
            "   userid  revenue\n",
            "0       1      100\n",
            "1       2        0\n",
            "2       3       50\n",
            "3       4      550\n",
            "4       5      175\n"
          ]
        }
      ]
    },
    {
      "cell_type": "code",
      "source": [
        "groupa_withrevenue=groupa.merge(emailresults1,on='userid')\n",
        "groupb_withrevenue=groupb.merge(emailresults1,on='userid')"
      ],
      "metadata": {
        "id": "fYy_9nz1gzEj"
      },
      "execution_count": 8,
      "outputs": []
    },
    {
      "cell_type": "code",
      "source": [
        "print(scipy.stats.ttest_ind(groupa_withrevenue['revenue'],groupb_withrevenue['revenue']))"
      ],
      "metadata": {
        "colab": {
          "base_uri": "https://localhost:8080/"
        },
        "id": "oZ6f7K9sg1Bd",
        "outputId": "8e176cef-5a91-40de-925d-2cc7c8317cb8"
      },
      "execution_count": 9,
      "outputs": [
        {
          "output_type": "stream",
          "name": "stdout",
          "text": [
            "TtestResult(statistic=-2.186454851070545, pvalue=0.03730073920038287, df=28.0)\n"
          ]
        }
      ]
    },
    {
      "cell_type": "code",
      "source": [
        "print(np.mean(groupb_withrevenue['revenue'])-np.mean(groupa_withrevenue['revenue']))"
      ],
      "metadata": {
        "colab": {
          "base_uri": "https://localhost:8080/"
        },
        "id": "0vvz5Z9Bg21W",
        "outputId": "758ff4c7-929d-4be8-b50a-0ffa39838b10"
      },
      "execution_count": 10,
      "outputs": [
        {
          "output_type": "stream",
          "name": "stdout",
          "text": [
            "125.0\n"
          ]
        }
      ]
    },
    {
      "cell_type": "code",
      "source": [
        "#Translating the Math into Practice\n",
        "np.random.seed(18811015)\n",
        "laptop.loc[:,'groupassignment1']=1*(np.random.random(len(laptop.index))>0.5)\n",
        "groupc=laptop.loc[laptop['groupassignment1']==0,:].copy()\n",
        "groupd=laptop.loc[laptop['groupassignment1']==1,:].copy()"
      ],
      "metadata": {
        "id": "RBBOYUI8g5km"
      },
      "execution_count": 11,
      "outputs": []
    },
    {
      "cell_type": "code",
      "source": [
        "emailresults2=pd.read_csv('emailresults2.csv')"
      ],
      "metadata": {
        "id": "mye1Hvu-hAU5"
      },
      "execution_count": 12,
      "outputs": []
    },
    {
      "cell_type": "code",
      "source": [
        "groupc_withrevenue=groupc.merge(emailresults2,on='userid')\n",
        "groupd_withrevenue=groupd.merge(emailresults2,on='userid')"
      ],
      "metadata": {
        "id": "-jCyUIzvhHNR"
      },
      "execution_count": 13,
      "outputs": []
    },
    {
      "cell_type": "code",
      "source": [
        "print(scipy.stats.ttest_ind(groupc_withrevenue['revenue'],groupd_withrevenue['revenue']))"
      ],
      "metadata": {
        "colab": {
          "base_uri": "https://localhost:8080/"
        },
        "id": "5FS_YllYhIly",
        "outputId": "4483205d-8411-4be9-9608-a2ead5107a9d"
      },
      "execution_count": 14,
      "outputs": [
        {
          "output_type": "stream",
          "name": "stdout",
          "text": [
            "TtestResult(statistic=-2.381320497676198, pvalue=0.024288828555138562, df=28.0)\n"
          ]
        }
      ]
    },
    {
      "cell_type": "code",
      "source": [
        "print(np.mean(groupd_withrevenue['revenue'])-np.mean(groupc_withrevenue['revenue']))"
      ],
      "metadata": {
        "colab": {
          "base_uri": "https://localhost:8080/"
        },
        "id": "sb9nKUGvhKSH",
        "outputId": "0340b4eb-ff0a-4d66-c793-35eb4482ff84"
      },
      "execution_count": 15,
      "outputs": [
        {
          "output_type": "stream",
          "name": "stdout",
          "text": [
            "260.3333333333333\n"
          ]
        }
      ]
    },
    {
      "cell_type": "code",
      "source": [
        "#Understanding Effect Sizes\n",
        "gdps=[365303000000,65994000000,220000000]"
      ],
      "metadata": {
        "id": "LHXuKbmFhMIG"
      },
      "execution_count": 16,
      "outputs": []
    },
    {
      "cell_type": "code",
      "source": [
        "print(np.std(gdps))"
      ],
      "metadata": {
        "colab": {
          "base_uri": "https://localhost:8080/"
        },
        "id": "BVZAnb0yhSu1",
        "outputId": "e087bc20-b382-493a-b233-b796a371827f"
      },
      "execution_count": 17,
      "outputs": [
        {
          "output_type": "stream",
          "name": "stdout",
          "text": [
            "158884197328.32672\n"
          ]
        }
      ]
    },
    {
      "cell_type": "code",
      "source": [
        "print(125/np.std(gdps))"
      ],
      "metadata": {
        "colab": {
          "base_uri": "https://localhost:8080/"
        },
        "id": "097wlfDThVch",
        "outputId": "510997b4-fe45-4151-9ae4-f61d57ed750b"
      },
      "execution_count": 18,
      "outputs": [
        {
          "output_type": "stream",
          "name": "stdout",
          "text": [
            "7.867365169217765e-10\n"
          ]
        }
      ]
    },
    {
      "cell_type": "code",
      "source": [
        "burgers=[9.0,12.99,10.50]"
      ],
      "metadata": {
        "id": "aGWyB7D0hXWk"
      },
      "execution_count": 19,
      "outputs": []
    },
    {
      "cell_type": "code",
      "source": [
        "print(np.std(burgers))"
      ],
      "metadata": {
        "colab": {
          "base_uri": "https://localhost:8080/"
        },
        "id": "0iq-m0cuhZqk",
        "outputId": "a83bd53d-9dbe-4cfe-e4ac-f367f14f61ba"
      },
      "execution_count": 20,
      "outputs": [
        {
          "output_type": "stream",
          "name": "stdout",
          "text": [
            "1.6455394252341695\n"
          ]
        }
      ]
    },
    {
      "cell_type": "code",
      "source": [
        "print(125/np.std(burgers))"
      ],
      "metadata": {
        "colab": {
          "base_uri": "https://localhost:8080/"
        },
        "id": "WHhY-OEghbnC",
        "outputId": "38311f18-63f8-477e-ec9e-3629f7e345c6"
      },
      "execution_count": 21,
      "outputs": [
        {
          "output_type": "stream",
          "name": "stdout",
          "text": [
            "75.96293232671214\n"
          ]
        }
      ]
    },
    {
      "cell_type": "code",
      "source": [
        "print(125/np.std(emailresults1['revenue']))"
      ],
      "metadata": {
        "colab": {
          "base_uri": "https://localhost:8080/"
        },
        "id": "Sef18MMXhdOW",
        "outputId": "377aa914-8748-4445-b036-0bc8731ac07d"
      },
      "execution_count": 22,
      "outputs": [
        {
          "output_type": "stream",
          "name": "stdout",
          "text": [
            "0.763769235188029\n"
          ]
        }
      ]
    },
    {
      "cell_type": "code",
      "source": [
        "#Calculating the Significance of Data\n",
        "from statsmodels.stats.power import TTestIndPower"
      ],
      "metadata": {
        "id": "kUzPO575he9B"
      },
      "execution_count": 23,
      "outputs": []
    },
    {
      "cell_type": "code",
      "source": [
        "alpha=0.05"
      ],
      "metadata": {
        "id": "3qUnXmxThoUw"
      },
      "execution_count": 24,
      "outputs": []
    },
    {
      "cell_type": "code",
      "source": [
        "nobs=45"
      ],
      "metadata": {
        "id": "cqfejRC1ho7j"
      },
      "execution_count": 25,
      "outputs": []
    },
    {
      "cell_type": "code",
      "source": [
        "effectsize=0.5"
      ],
      "metadata": {
        "id": "6hOIQATshqSi"
      },
      "execution_count": 26,
      "outputs": []
    },
    {
      "cell_type": "code",
      "source": [
        "analysis = TTestIndPower()\n",
        "power = analysis.solve_power(effect_size=effectsize, nobs1=nobs, alpha=alpha)"
      ],
      "metadata": {
        "id": "6gLDnYKFhreq"
      },
      "execution_count": 27,
      "outputs": []
    },
    {
      "cell_type": "code",
      "source": [
        "analysis = TTestIndPower()\n",
        "alpha = 0.05\n",
        "effect = 0.5\n",
        "power = 0.8\n",
        "observations = analysis.solve_power(effect_size=effect, power=power, alpha=alpha)\n",
        "print(observations)"
      ],
      "metadata": {
        "colab": {
          "base_uri": "https://localhost:8080/"
        },
        "id": "EdktbzFMhtEq",
        "outputId": "33225ea5-a33d-4562-c7ef-5fb7f8be01eb"
      },
      "execution_count": 29,
      "outputs": [
        {
          "output_type": "stream",
          "name": "stdout",
          "text": [
            "63.7656117754095\n"
          ]
        }
      ]
    },
    {
      "cell_type": "markdown",
      "source": [
        "Summary: I covered A/B testing, beginning with a simple t-test and highlighting the importance of random, unbiased data collection in the process. I explored key aspects of A/B testing, including the champion/challenger framework, Twyman’s law, and ethical considerations."
      ],
      "metadata": {
        "id": "b0TUVKgxiJ-p"
      }
    }
  ]
}