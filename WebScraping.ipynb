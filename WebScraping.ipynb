{
  "nbformat": 4,
  "nbformat_minor": 0,
  "metadata": {
    "colab": {
      "provenance": []
    },
    "kernelspec": {
      "name": "python3",
      "display_name": "Python 3"
    },
    "language_info": {
      "name": "python"
    }
  },
  "cells": [
    {
      "cell_type": "markdown",
      "source": [
        "# WEB SCRAPING Project"
      ],
      "metadata": {
        "id": "yLy0YcBYPlnV"
      }
    },
    {
      "cell_type": "code",
      "execution_count": 1,
      "metadata": {
        "colab": {
          "base_uri": "https://localhost:8080/"
        },
        "id": "rXCM6TIpK-YZ",
        "outputId": "fd3a5d7b-c99d-4d9c-a22a-8a2cc0fbec98"
      },
      "outputs": [
        {
          "output_type": "stream",
          "name": "stdout",
          "text": [
            "<?xml version=\"1.0\" encoding=\"utf-8\"?>\n",
            "<!DOCTYPE html PUBLIC \"-//W3C//DTD XHTML 1.0 Strict//EN\" \"http://www.w3.org/TR/xhtml1/DTD/xhtml1-strict.dtd\">\n",
            "<html xmlns=\"http://www.w3.org/1999/xhtml\" xml:lang=\"en-US\" lang=\"en-US\">\n",
            "  <head><meta http-equiv=\"Content-Type\" content=\"text/html; charset=utf-8\">\n",
            "\n",
            "    <title>Bradford Tuckfield</title>\n",
            "    <meta name=\"description\" content=\"Bradford Tuckfield\" />\n",
            "    <meta name=\"keywords\" content=\"Bradford Tuckfield\" />\n",
            "    <meta name=\"google-site-verification\" content=\"eNw-LEFxVf71e-ZlYnv5tGSxTZ7V32coMCV9bxS3MGY\" />\n",
            "<link rel=\"stylesheet\" type=\"text/css\" href=\n"
          ]
        }
      ],
      "source": [
        "#Creating Web Scraper\n",
        "import requests\n",
        "urltoget = 'https://bradfordtuckfield.com/indexarchive20210903.html'\n",
        "pagecode = requests.get(urltoget)\n",
        "print(pagecode.text[0:600])"
      ]
    },
    {
      "cell_type": "code",
      "source": [
        "#Parsing HTML Code\n",
        "#Scraping an Email Address\n",
        "urltoget = 'https://bradfordtuckfield.com/contactscrape.html'\n",
        "pagecode = requests.get(urltoget)\n",
        "mail_beginning=pagecode.text.find('Email:')\n",
        "print(mail_beginning)"
      ],
      "metadata": {
        "colab": {
          "base_uri": "https://localhost:8080/"
        },
        "id": "95S_RqmyLPvA",
        "outputId": "29fa9720-c7f4-4f59-f363-0a0305689c65"
      },
      "execution_count": 2,
      "outputs": [
        {
          "output_type": "stream",
          "name": "stdout",
          "text": [
            "511\n"
          ]
        }
      ]
    },
    {
      "cell_type": "code",
      "source": [
        "print(pagecode.text[(mail_beginning):(mail_beginning+80)])"
      ],
      "metadata": {
        "colab": {
          "base_uri": "https://localhost:8080/"
        },
        "id": "SwlurYWPLjcB",
        "outputId": "b8e58952-d0bf-4d4d-a6a0-8501ea046706"
      },
      "execution_count": 3,
      "outputs": [
        {
          "output_type": "stream",
          "name": "stdout",
          "text": [
            "Email:  <label class=\"email\" href=\"#\">demo@bradfordtuckfield.com</label>\r\n",
            "</div>\n"
          ]
        }
      ]
    },
    {
      "cell_type": "code",
      "source": [
        "print(pagecode.text[(mail_beginning+38):(mail_beginning+64)])"
      ],
      "metadata": {
        "colab": {
          "base_uri": "https://localhost:8080/"
        },
        "id": "0lRzSmm2LkMI",
        "outputId": "b9c6690d-dcc9-4876-a0b5-98a486bd3d47"
      },
      "execution_count": 4,
      "outputs": [
        {
          "output_type": "stream",
          "name": "stdout",
          "text": [
            "demo@bradfordtuckfield.com\n"
          ]
        }
      ]
    },
    {
      "cell_type": "code",
      "source": [
        "#Searching for Addresses Directly\n",
        "urltoget = 'https://bradfordtuckfield.com/contactscrape.html'\n",
        "pagecode = requests.get(urltoget)\n",
        "at_beginning=pagecode.text.find('@')\n",
        "print(at_beginning)"
      ],
      "metadata": {
        "colab": {
          "base_uri": "https://localhost:8080/"
        },
        "id": "nmtJUSHxLnGo",
        "outputId": "52b1d90d-6afb-4761-8db6-c59b1f1b3e30"
      },
      "execution_count": 5,
      "outputs": [
        {
          "output_type": "stream",
          "name": "stdout",
          "text": [
            "553\n"
          ]
        }
      ]
    },
    {
      "cell_type": "code",
      "source": [
        "print(pagecode.text[(at_beginning-4):(at_beginning+22)])"
      ],
      "metadata": {
        "colab": {
          "base_uri": "https://localhost:8080/"
        },
        "id": "fvGvYqbCLq88",
        "outputId": "f3edc517-ec5c-42b6-cc2f-50c2bfdfaf45"
      },
      "execution_count": 6,
      "outputs": [
        {
          "output_type": "stream",
          "name": "stdout",
          "text": [
            "demo@bradfordtuckfield.com\n"
          ]
        }
      ]
    },
    {
      "cell_type": "code",
      "source": [
        "#Performing Searches with Regular Expressions\n",
        "import re\n",
        "print(re.search(r'recommend','irrelevant text I recommend irrelevant text').span())"
      ],
      "metadata": {
        "colab": {
          "base_uri": "https://localhost:8080/"
        },
        "id": "hEx3W8CvLt0X",
        "outputId": "03fdf8ad-2272-4b37-a4d2-b5b544556772"
      },
      "execution_count": 7,
      "outputs": [
        {
          "output_type": "stream",
          "name": "stdout",
          "text": [
            "(18, 27)\n"
          ]
        }
      ]
    },
    {
      "cell_type": "code",
      "source": [
        "import re\n",
        "print(re.search('rec+om+end', 'irrelevant text I recommend irrelevant text').span())"
      ],
      "metadata": {
        "colab": {
          "base_uri": "https://localhost:8080/"
        },
        "id": "wLzgYTPXL7nd",
        "outputId": "843b5447-ba79-4bc0-c24d-cf4a3e7943c1"
      },
      "execution_count": 8,
      "outputs": [
        {
          "output_type": "stream",
          "name": "stdout",
          "text": [
            "(18, 27)\n"
          ]
        }
      ]
    },
    {
      "cell_type": "code",
      "source": [
        "import re\n",
        "print(re.search('rec+om+end','irrelevant text I recomend irrelevant text').span())\n",
        "print(re.search('rec+om+end','irrelevant text I reccommend irrelevant text').span())\n",
        "#print(re.search('rec+om+end','irrelevant text I reommend irrelevant text').span())\n",
        "#print(re.search('rec+om+end','irrelevant text I recomment irrelevant text').span())"
      ],
      "metadata": {
        "colab": {
          "base_uri": "https://localhost:8080/"
        },
        "id": "HHSEAlD_L8nC",
        "outputId": "675924db-9a79-45ad-8647-d2dafd636851"
      },
      "execution_count": 10,
      "outputs": [
        {
          "output_type": "stream",
          "name": "stdout",
          "text": [
            "(18, 26)\n",
            "(18, 28)\n"
          ]
        }
      ]
    },
    {
      "cell_type": "code",
      "source": [
        "#Using Metacharacters for Flexible Searches\n",
        "re.search('10*','My bank balance is 100').span()"
      ],
      "metadata": {
        "colab": {
          "base_uri": "https://localhost:8080/"
        },
        "id": "3i5VTXBUMI3z",
        "outputId": "72de66e6-b40c-4c12-b64b-610f0345924e"
      },
      "execution_count": 11,
      "outputs": [
        {
          "output_type": "execute_result",
          "data": {
            "text/plain": [
              "(19, 22)"
            ]
          },
          "metadata": {},
          "execution_count": 11
        }
      ]
    },
    {
      "cell_type": "code",
      "source": [
        "import re\n",
        "print(re.search('10*','My bank balance is 1').span())\n",
        "print(re.search('10*','My bank balance is 1000').span())\n",
        "#print(re.search('10*','My bank balance is 9000').span())\n",
        "#print(re.search('10*','My bank balance is 1000000').span())"
      ],
      "metadata": {
        "colab": {
          "base_uri": "https://localhost:8080/"
        },
        "id": "nlrdRbwIMNhA",
        "outputId": "e692e5ce-53bc-4699-8d0c-b3830bc2d503"
      },
      "execution_count": 13,
      "outputs": [
        {
          "output_type": "stream",
          "name": "stdout",
          "text": [
            "(19, 20)\n",
            "(19, 23)\n"
          ]
        }
      ]
    },
    {
      "cell_type": "code",
      "source": [
        "print(re.search('Clarke?','Please refer questions to Mr. Clark').span())"
      ],
      "metadata": {
        "colab": {
          "base_uri": "https://localhost:8080/"
        },
        "id": "Nh6zrS10MYMW",
        "outputId": "0fa9aa58-56e7-4565-89eb-62b9185367d7"
      },
      "execution_count": 14,
      "outputs": [
        {
          "output_type": "stream",
          "name": "stdout",
          "text": [
            "(30, 35)\n"
          ]
        }
      ]
    },
    {
      "cell_type": "code",
      "source": [
        "#Fine-Tuning Searches with Escape Sequences\n",
        "#re.search('99+12=111','Example addition: 99+12=111').span()\n",
        "re.search('99+12=111','Incorrect fact: 999912=111').span()"
      ],
      "metadata": {
        "colab": {
          "base_uri": "https://localhost:8080/"
        },
        "id": "_0nVqdbkNbJ9",
        "outputId": "5002984c-e7ec-4344-ec40-a0729f6fb294"
      },
      "execution_count": 16,
      "outputs": [
        {
          "output_type": "execute_result",
          "data": {
            "text/plain": [
              "(16, 26)"
            ]
          },
          "metadata": {},
          "execution_count": 16
        }
      ]
    },
    {
      "cell_type": "code",
      "source": [
        "re.search('99\\+12=111','Example addition: 99+12=111').span()"
      ],
      "metadata": {
        "colab": {
          "base_uri": "https://localhost:8080/"
        },
        "id": "pFz6j5WBNps5",
        "outputId": "92e1e569-f5eb-467a-a11e-ad404e5c01cf"
      },
      "execution_count": 17,
      "outputs": [
        {
          "output_type": "execute_result",
          "data": {
            "text/plain": [
              "(18, 27)"
            ]
          },
          "metadata": {},
          "execution_count": 17
        }
      ]
    },
    {
      "cell_type": "code",
      "source": [
        "re.search('Clarke\\?','Is anyone here named Clarke?').span()"
      ],
      "metadata": {
        "colab": {
          "base_uri": "https://localhost:8080/"
        },
        "id": "gDOvPD_BNxB-",
        "outputId": "12fadfc8-3fde-4711-d851-d7b8c2707eab"
      },
      "execution_count": 18,
      "outputs": [
        {
          "output_type": "execute_result",
          "data": {
            "text/plain": [
              "(21, 28)"
            ]
          },
          "metadata": {},
          "execution_count": 18
        }
      ]
    },
    {
      "cell_type": "code",
      "source": [
        "re.search(r'\\\\',r'The escape character is \\\\').span()"
      ],
      "metadata": {
        "colab": {
          "base_uri": "https://localhost:8080/"
        },
        "id": "MiXQN0oeNzeO",
        "outputId": "827362fb-5530-4539-b807-e0007498804f"
      },
      "execution_count": 19,
      "outputs": [
        {
          "output_type": "execute_result",
          "data": {
            "text/plain": [
              "(24, 25)"
            ]
          },
          "metadata": {},
          "execution_count": 19
        }
      ]
    },
    {
      "cell_type": "code",
      "source": [
        "re.search('\\d','The loneliest number is 1').span()"
      ],
      "metadata": {
        "colab": {
          "base_uri": "https://localhost:8080/"
        },
        "id": "TAxGudWwN1SU",
        "outputId": "e97fcd17-92c1-4ccd-c51e-07ea8efb8fe2"
      },
      "execution_count": 20,
      "outputs": [
        {
          "output_type": "execute_result",
          "data": {
            "text/plain": [
              "(24, 25)"
            ]
          },
          "metadata": {},
          "execution_count": 20
        }
      ]
    },
    {
      "cell_type": "code",
      "source": [
        "re.search('[a-z]','My Twitter is @fake; my email is abc@def.com').span()"
      ],
      "metadata": {
        "colab": {
          "base_uri": "https://localhost:8080/"
        },
        "id": "TLXBAGZSN3fc",
        "outputId": "cc79855a-3e0b-4294-a416-3d72b7594ffd"
      },
      "execution_count": 21,
      "outputs": [
        {
          "output_type": "execute_result",
          "data": {
            "text/plain": [
              "(1, 2)"
            ]
          },
          "metadata": {},
          "execution_count": 21
        }
      ]
    },
    {
      "cell_type": "code",
      "source": [
        "re.search('[A-Z]','My Twitter is @fake; my email is abc@def.com').span()"
      ],
      "metadata": {
        "colab": {
          "base_uri": "https://localhost:8080/"
        },
        "id": "R-fgLirBN6AM",
        "outputId": "41c0876f-c9d1-4c43-ae47-1a0c8aab6d51"
      },
      "execution_count": 22,
      "outputs": [
        {
          "output_type": "execute_result",
          "data": {
            "text/plain": [
              "(0, 1)"
            ]
          },
          "metadata": {},
          "execution_count": 22
        }
      ]
    },
    {
      "cell_type": "code",
      "source": [
        "re.search('Manchac[a|k]','Lets drive on Manchaca.').span()"
      ],
      "metadata": {
        "colab": {
          "base_uri": "https://localhost:8080/"
        },
        "id": "Jf4tu8dWN9Uc",
        "outputId": "beb4b373-55a5-466f-c8a5-1ec0e6abcd8d"
      },
      "execution_count": 23,
      "outputs": [
        {
          "output_type": "execute_result",
          "data": {
            "text/plain": [
              "(14, 22)"
            ]
          },
          "metadata": {},
          "execution_count": 23
        }
      ]
    },
    {
      "cell_type": "code",
      "source": [
        "#Combining Metacharacters for Advanced Searches\n",
        "re.search('school.*\\.pdf$','schoolforgottenname.pdf').span()"
      ],
      "metadata": {
        "colab": {
          "base_uri": "https://localhost:8080/"
        },
        "id": "CLiEO9tIN_xv",
        "outputId": "702c88a3-ef55-49af-e8ea-1031261244b2"
      },
      "execution_count": 24,
      "outputs": [
        {
          "output_type": "execute_result",
          "data": {
            "text/plain": [
              "(0, 23)"
            ]
          },
          "metadata": {},
          "execution_count": 24
        }
      ]
    },
    {
      "cell_type": "code",
      "source": [
        "import re\n",
        "print(re.search('school.*\\.pdf$','schoolforgottenname.pdf').span())\n",
        "print(re.search('school.*\\.pdf$','school.pdf').span())\n",
        "print(re.search('school.*\\.pdf$','schoolothername.pdf').span())\n",
        "#print(re.search('school.*\\.pdf$','othername.pdf').span())\n",
        "#print(re.search('school.*\\.pdf$','schoolothernamepdf').span())\n",
        "#print(re.search('school.*\\.pdf$','schoolforgottenname.pdf.exe').span())"
      ],
      "metadata": {
        "colab": {
          "base_uri": "https://localhost:8080/"
        },
        "id": "X1UuwzEfOCC9",
        "outputId": "0dd57508-4093-4a17-852d-f124acddb12e"
      },
      "execution_count": 28,
      "outputs": [
        {
          "output_type": "stream",
          "name": "stdout",
          "text": [
            "(0, 23)\n",
            "(0, 10)\n",
            "(0, 19)\n"
          ]
        }
      ]
    },
    {
      "cell_type": "code",
      "source": [
        "#Using Regular Expressions to Search for Email Addresses\n",
        "re.search('[a-zA-Z]+@[a-zA-Z]+\\.[a-zA-Z]+','My Twitter is @fake; my email is abc@def.com').span()"
      ],
      "metadata": {
        "colab": {
          "base_uri": "https://localhost:8080/"
        },
        "id": "QuVzbrUFOIJm",
        "outputId": "828e1383-8717-49f0-aff3-36d07f12b9bb"
      },
      "execution_count": 29,
      "outputs": [
        {
          "output_type": "execute_result",
          "data": {
            "text/plain": [
              "(33, 44)"
            ]
          },
          "metadata": {},
          "execution_count": 29
        }
      ]
    },
    {
      "cell_type": "code",
      "source": [
        "#Converting Results to Usable Data\n",
        "import requests\n",
        "urltoget = 'https://bradfordtuckfield.com/contactscrape2.html'\n",
        "pagecode = requests.get(urltoget)"
      ],
      "metadata": {
        "id": "Q9GUy9J3ONrw"
      },
      "execution_count": 30,
      "outputs": []
    },
    {
      "cell_type": "code",
      "source": [
        "allmatches=re.finditer('[a-zA-Z]+@[a-zA-Z]+\\.[a-zA-Z]+',pagecode.text)"
      ],
      "metadata": {
        "id": "x-nAYZlKOu8N"
      },
      "execution_count": 31,
      "outputs": []
    },
    {
      "cell_type": "code",
      "source": [
        "alladdresses = []\n",
        "for match in allmatches:\n",
        "  alladdresses.append(match[0])\n",
        "print(alladdresses)"
      ],
      "metadata": {
        "colab": {
          "base_uri": "https://localhost:8080/"
        },
        "id": "lcEJa8hdOw3E",
        "outputId": "322e455b-88d8-4667-fcba-33c900fbef58"
      },
      "execution_count": 32,
      "outputs": [
        {
          "output_type": "stream",
          "name": "stdout",
          "text": [
            "['abc@abc.com', 'def@def.com', 'ghi@ghi.com', 'jkl@jkl.org', 'mno@mno.net', 'pqr@pqr.edu', 'stu@stu.com']\n"
          ]
        }
      ]
    },
    {
      "cell_type": "code",
      "source": [
        "import pandas as pd\n",
        "alladdpd=pd.DataFrame(alladdresses)\n",
        "print(alladdpd)"
      ],
      "metadata": {
        "colab": {
          "base_uri": "https://localhost:8080/"
        },
        "id": "KwnZxuWCOzX-",
        "outputId": "3c6b96b4-806a-429d-873e-41eff67534c4"
      },
      "execution_count": 33,
      "outputs": [
        {
          "output_type": "stream",
          "name": "stdout",
          "text": [
            "             0\n",
            "0  abc@abc.com\n",
            "1  def@def.com\n",
            "2  ghi@ghi.com\n",
            "3  jkl@jkl.org\n",
            "4  mno@mno.net\n",
            "5  pqr@pqr.edu\n",
            "6  stu@stu.com\n"
          ]
        }
      ]
    },
    {
      "cell_type": "code",
      "source": [
        "alladdpd=alladdpd.sort_values(0,ascending=False)\n",
        "alladdpd.to_csv('alladdpd20220720.csv')"
      ],
      "metadata": {
        "id": "bQ26c-BAO1w2"
      },
      "execution_count": 34,
      "outputs": []
    },
    {
      "cell_type": "code",
      "source": [
        "#Using Beautiful Soup\n",
        "import requests\n",
        "from bs4 import BeautifulSoup\n",
        "URL = 'https://bradfordtuckfield.com/indexarchive20210903.html'\n",
        "response = requests.get(URL)\n",
        "soup = BeautifulSoup(response.text, 'lxml')\n",
        "all_urls = soup.find_all('a')\n",
        "for each in all_urls:\n",
        "  print(each['href'])"
      ],
      "metadata": {
        "colab": {
          "base_uri": "https://localhost:8080/"
        },
        "id": "nJCG0PPFO32c",
        "outputId": "e13f793d-53a9-41ed-edcc-1073c6b4fac2"
      },
      "execution_count": 35,
      "outputs": [
        {
          "output_type": "stream",
          "name": "stdout",
          "text": [
            "https://nostarch.com/Dive-Into-Algorithms\n",
            "https://www.penguinrandomhouse.com/books/645953/dive-into-algorithms-by-bradford-tuckfield/9781718500686/\n",
            "https://www.amazon.com/dp/1718500688\n",
            "https://www.amazon.com/Applied-Unsupervised-Learning-relationships-hierarchical/dp/1789956390/\n",
            "final20190428.pdf\n",
            "http://thedreamtigers.com/\n",
            "https://kmbara.com\n",
            "https://www.theamericanconservative.com/author/bradford-tuckfield/\n",
            "http://www.the-american-interest.com/byline/bradford-tuckfield/\n",
            "tai.pdf\n",
            "tai2018.pdf\n",
            "https://www.nationalaffairs.com/authors/detail/bradford-tuckfield\n",
            "nationalaffairs.pdf\n",
            "https://americanaffairsjournal.org/2017/10/the-incoherence-of-the-economists/\n",
            "borges.pdf\n",
            "https://quillette.com/author/bradford-tuckfield/\n",
            "https://vitadabrutto.wordpress.com/2019/03/13/disuguaglianze-estetiche-ed-economia-del-sesso/\n",
            "https://nas.org/blogs/dicta/avoiding_scholarships_dead_ends\n",
            "http://www.newenglishreview.org/custpage.cfm/frm/167043/sec_id/167043\n",
            "https://web.archive.org/web/20170705161916/http://www.tasteofcinema.com/2016/10-great-movies-every-conservative-should-see/\n",
            "http://www.theimaginativeconservative.org/author/bradford-tuckfield\n",
            "https://www.estibordo.org/post/68221\n",
            "http://www.datasciencecentral.com/profiles/blog/list?user=2zu0dmefus2gu\n",
            "http://interpreterfoundation.org/gods-laughter/\n",
            "https://patft.uspto.gov/netacgi/nph-Parser?Sect1=PTO1&Sect2=HITOFF&p=1&u=/netahtml/PTO/srchnum.html&r=1&f=G&l=50&d=PALL&s1=11068477.PN.\n",
            "https://www.udacity.com/course/machine-learning-dev-ops-engineer-nanodegree--nd0821\n",
            "jordan.pdf\n",
            "http://amj.aom.org/content/early/2017/08/23/amj.2014.1045.abstract\n",
            "https://papers.ssrn.com/sol3/papers.cfm?abstract_id=3022656\n",
            "https://journals.aom.org/doi/abs/10.5465/ambpp.2014.17102symposium\n",
            "https://jamanetwork.com/journals/jamanetworkopen/fullarticle/2748659\n",
            "https://hbswk.hbs.edu/item/the-role-of-incentive-salience-in-habit-formation\n",
            "https://iopscience.iop.org/article/10.1088/1742-6596/1642/1/012014/meta\n",
            "http://petalokasi.org/\n",
            "http://harga-emas.net/\n",
            "http://198.58.101.44/sidebylado/\n",
            "http://media2.ldscdn.org/assets/general-conference/april-2011-general-conference/2011-04-1010-president-thomas-s-monson-64k-msa.mp3\n",
            "http://media2.ldscdn.org/assets/general-conference/april-2011-general-conference/2011-04-2040-president-boyd-k-packer-64k-msa.mp3\n",
            "http://media2.ldscdn.org/assets/general-conference/october-2010-general-conference/2010-10-3060-president-thomas-s-monson-64k-msa.mp3\n",
            "https://www.youtube.com/watch?v=2PjTrcxLa-I\n",
            "https://www.youtube.com/watch?v=eUjXAO81FCA&t=29s\n",
            "http://bradfordtuckfield.com/iban.html\n"
          ]
        },
        {
          "output_type": "stream",
          "name": "stderr",
          "text": [
            "<ipython-input-35-ac024cfb856a>:6: XMLParsedAsHTMLWarning: It looks like you're parsing an XML document using an HTML parser. If this really is an HTML document (maybe it's XHTML?), you can ignore or filter this warning. If it's XML, you should know that using an XML parser will be more reliable. To parse this document as XML, make sure you have the lxml package installed, and pass the keyword argument `features=\"xml\"` into the BeautifulSoup constructor.\n",
            "  soup = BeautifulSoup(response.text, 'lxml')\n"
          ]
        }
      ]
    },
    {
      "cell_type": "code",
      "source": [
        "#Parsing HTML Label Elements\n",
        "import requests\n",
        "from bs4 import BeautifulSoup\n",
        "URL = 'https://bradfordtuckfield.com/contactscrape.html'\n",
        "response = requests.get(URL)\n",
        "soup = BeautifulSoup(response.text, 'lxml')\n",
        "email = soup.find('label',{'class':'email'}).text\n",
        "mobile = soup.find('label',{'class':'mobile'}).text\n",
        "website = soup.find('a',{'class':'website'}).text\n",
        "print(\"Email : {}\".format(email))\n",
        "print(\"Mobile : {}\".format(mobile))\n",
        "print(\"Website : {}\".format(website))"
      ],
      "metadata": {
        "colab": {
          "base_uri": "https://localhost:8080/"
        },
        "id": "QfWZkU8bO_nD",
        "outputId": "6192eda4-b221-4623-c624-c504228801df"
      },
      "execution_count": 36,
      "outputs": [
        {
          "output_type": "stream",
          "name": "stdout",
          "text": [
            "Email : demo@bradfordtuckfield.com\n",
            "Mobile : +1 879-890-9767\n",
            "Website : www.bradfordtuckfield.com\n"
          ]
        }
      ]
    },
    {
      "cell_type": "code",
      "source": [
        "#Scraping and Parsing HTML Tables\n",
        "import requests\n",
        "from bs4 import BeautifulSoup\n",
        "URL = 'https://bradfordtuckfield.com/user_detailsscrape.html'\n",
        "response = requests.get(URL)\n",
        "soup = BeautifulSoup(response.text, 'lxml')\n",
        "all_user_entries = soup.find_all('tr',{'class':'user-details'})\n",
        "for each_user in all_user_entries:\n",
        "  user = each_user.find_all(\"td\")\n",
        "  print(\"User Firstname : {}, Lastname : {}, Age: {}\".format(user[0].text, user[1].text, user[2].text))"
      ],
      "metadata": {
        "colab": {
          "base_uri": "https://localhost:8080/"
        },
        "id": "iUMisyU8PJjU",
        "outputId": "2eb5dcc0-fcda-4b67-b779-ea518f2d822f"
      },
      "execution_count": 37,
      "outputs": [
        {
          "output_type": "stream",
          "name": "stdout",
          "text": [
            "User Firstname : Jill, Lastname : Smith, Age: 50\n",
            "User Firstname : Eve, Lastname : Jackson, Age: 44\n",
            "User Firstname : John, Lastname : Jackson, Age: 24\n",
            "User Firstname : Kevin, Lastname : Snow, Age: 34\n"
          ]
        }
      ]
    },
    {
      "cell_type": "markdown",
      "source": [
        "Summary: I covered web scraping, beginning with an overview of the concept and a brief introduction to HTML structure. I then created a simple scraper that downloads and displays webpage code. Next, I demonstrated how to search and parse website code, using regular expressions for advanced searches, and how to convert scraped data into usable datasets. I also used Python’s Beautiful Soup library to efficiently locate hyperlinks and tagged information on web pages."
      ],
      "metadata": {
        "id": "jEte0gDQPgu3"
      }
    }
  ]
}