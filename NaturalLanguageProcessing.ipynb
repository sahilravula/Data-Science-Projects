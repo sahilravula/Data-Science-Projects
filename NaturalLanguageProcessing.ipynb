{
  "nbformat": 4,
  "nbformat_minor": 0,
  "metadata": {
    "colab": {
      "provenance": []
    },
    "kernelspec": {
      "name": "python3",
      "display_name": "Python 3"
    },
    "language_info": {
      "name": "python"
    }
  },
  "cells": [
    {
      "cell_type": "markdown",
      "source": [
        "# NATURAL LANGUAGE PROCESSING"
      ],
      "metadata": {
        "id": "jcJBL2RUaqj4"
      }
    },
    {
      "cell_type": "code",
      "execution_count": 1,
      "metadata": {
        "id": "6jDpSIs3U8B8"
      },
      "outputs": [],
      "source": [
        "sword = [10,1,5,1]\n",
        "knife = [10,1,5,9]\n",
        "herring = [2,2,2,6]"
      ]
    },
    {
      "cell_type": "code",
      "source": [],
      "metadata": {
        "id": "M3K0fhi7a8o6"
      },
      "execution_count": null,
      "outputs": []
    },
    {
      "cell_type": "code",
      "source": [
        "import numpy as np\n",
        "def euclidean(vec1,vec2):\n",
        "  distance=np.array(vec1)-np.array(vec2)\n",
        "  squared_sum=np.sum(distance**2)\n",
        "  return np.sqrt(squared_sum)"
      ],
      "metadata": {
        "id": "6F28GOwDVaJY"
      },
      "execution_count": 2,
      "outputs": []
    },
    {
      "cell_type": "code",
      "source": [
        "print(euclidean(sword,knife))\n",
        "print(euclidean(sword,herring))\n",
        "print(euclidean(knife,herring))"
      ],
      "metadata": {
        "colab": {
          "base_uri": "https://localhost:8080/"
        },
        "id": "8cKdSEGqVdSL",
        "outputId": "2efd468d-1dbd-44b1-a1f5-62f19452f563"
      },
      "execution_count": 3,
      "outputs": [
        {
          "output_type": "stream",
          "name": "stdout",
          "text": [
            "8.0\n",
            "9.9498743710662\n",
            "9.1104335791443\n"
          ]
        }
      ]
    },
    {
      "cell_type": "code",
      "source": [
        "#Analyzing Numeric Vectors in word2vec\n",
        "import gensim.downloader as api"
      ],
      "metadata": {
        "id": "d1cT73NDVfgl"
      },
      "execution_count": 4,
      "outputs": []
    },
    {
      "cell_type": "code",
      "source": [
        "vectors = api.load('word2vec-google-news-300')"
      ],
      "metadata": {
        "colab": {
          "base_uri": "https://localhost:8080/"
        },
        "id": "CZdYv_WqVmOg",
        "outputId": "3f91edd2-21ff-41f4-9a27-d27d80bfeec7"
      },
      "execution_count": 5,
      "outputs": [
        {
          "output_type": "stream",
          "name": "stdout",
          "text": [
            "[==================================================] 100.0% 1662.8/1662.8MB downloaded\n"
          ]
        }
      ]
    },
    {
      "cell_type": "code",
      "source": [
        "print(vectors['sword'])"
      ],
      "metadata": {
        "colab": {
          "base_uri": "https://localhost:8080/"
        },
        "id": "MJ5KfksqYOXG",
        "outputId": "d471ac00-10de-4c9d-fc03-638d00d8e660"
      },
      "execution_count": 6,
      "outputs": [
        {
          "output_type": "stream",
          "name": "stdout",
          "text": [
            "[ 0.51953125  0.1875      0.31445312 -0.20605469 -0.0078125   0.375\n",
            "  0.22558594 -0.02441406 -0.06445312  0.27929688  0.02746582 -0.24511719\n",
            " -0.21582031  0.13574219 -0.27148438 -0.09130859 -0.06884766 -0.08349609\n",
            "  0.14160156 -0.14160156  0.24316406 -0.23730469  0.32421875 -0.00582886\n",
            " -0.12792969  0.0201416   0.07617188 -0.10742188  0.16894531 -0.12988281\n",
            "  0.07958984  0.2265625   0.11035156  0.12792969  0.02856445  0.01965332\n",
            " -0.06933594  0.21875    -0.06738281 -0.04370117  0.23046875  0.07714844\n",
            "  0.49804688 -0.14550781  0.23632812 -0.10009766  0.02893066 -0.16699219\n",
            "  0.09814453 -0.24804688 -0.09082031  0.3515625  -0.00439453 -0.29296875\n",
            "  0.00793457 -0.140625   -0.10888672  0.00212097 -0.13476562 -0.02575684\n",
            " -0.02148438  0.10888672  0.07324219  0.15332031 -0.06835938 -0.01831055\n",
            "  0.08544922 -0.39257812  0.03979492  0.12890625  0.10595703 -0.13476562\n",
            "  0.05224609 -0.25       -0.16113281 -0.11523438  0.00117493 -0.17480469\n",
            "  0.04248047 -0.42382812  0.03710938 -0.02770996 -0.06445312 -0.12011719\n",
            " -0.18261719  0.24023438 -0.45117188 -0.12109375  0.06933594 -0.00668335\n",
            " -0.13574219  0.07666016 -0.19726562 -0.19042969  0.27148438 -0.20898438\n",
            "  0.05102539 -0.15722656  0.10644531 -0.22851562 -0.11962891 -0.29492188\n",
            "  0.10400391 -0.20605469  0.13671875 -0.11132812  0.14746094 -0.13085938\n",
            "  0.34765625 -0.24707031 -0.12890625  0.07714844  0.34179688  0.08691406\n",
            " -0.20703125  0.07666016 -0.05224609  0.09716797  0.11621094  0.08349609\n",
            "  0.15722656 -0.02478027  0.01855469 -0.28125     0.02636719 -0.22753906\n",
            "  0.1171875  -0.10449219 -0.06835938  0.05004883 -0.07177734 -0.15625\n",
            " -0.72265625 -0.06640625  0.01324463  0.35742188 -0.06396484  0.00259399\n",
            " -0.15917969  0.23925781  0.08691406 -0.0324707  -0.00646973 -0.15917969\n",
            " -0.07275391  0.15234375 -0.05126953 -0.05224609  0.1796875   0.05834961\n",
            "  0.29296875  0.265625    0.01794434  0.25195312 -0.125       0.07080078\n",
            " -0.10058594 -0.03857422  0.02954102 -0.08642578  0.11425781  0.03588867\n",
            "  0.22949219 -0.21191406 -0.35546875 -0.30664062  0.24023438 -0.3046875\n",
            " -0.20996094  0.03271484  0.12402344 -0.24511719 -0.00230408 -0.15820312\n",
            "  0.08886719 -0.43945312 -0.14746094 -0.13085938 -0.08642578 -0.18261719\n",
            " -0.43945312 -0.19921875  0.15136719  0.01782227 -0.09570312  0.03881836\n",
            "  0.40234375 -0.09472656  0.15625    -0.07128906  0.13085938  0.00775146\n",
            " -0.39257812  0.11621094  0.12402344 -0.18554688 -0.02478027  0.13183594\n",
            "  0.08056641 -0.27148438 -0.05712891 -0.3046875  -0.19433594 -0.14453125\n",
            " -0.08349609  0.03613281 -0.125       0.00704956 -0.21972656 -0.11914062\n",
            " -0.21484375  0.12109375 -0.21777344 -0.3359375  -0.18066406 -0.36523438\n",
            " -0.390625    0.12158203 -0.078125    0.51171875  0.09375    -0.22167969\n",
            "  0.12109375 -0.1328125  -0.01843262 -0.02233887  0.08496094  0.04101562\n",
            "  0.07763672 -0.10400391 -0.08544922 -0.15136719 -0.01452637  0.19824219\n",
            "  0.43945312  0.06933594 -0.08203125  0.10693359  0.47851562  0.21777344\n",
            " -0.0267334  -0.24511719 -0.02197266 -0.26367188  0.18554688 -0.23632812\n",
            "  0.19628906 -0.19238281  0.17285156 -0.13867188 -0.2890625   0.0859375\n",
            " -0.05761719  0.09423828 -0.02978516 -0.11230469 -0.34179688 -0.12792969\n",
            " -0.04638672 -0.03076172 -0.00317383  0.359375   -0.1015625  -0.40234375\n",
            " -0.16308594  0.2734375  -0.02734375 -0.14648438 -0.00805664  0.08203125\n",
            "  0.13378906  0.1953125  -0.12402344 -0.03637695  0.5859375  -0.03295898\n",
            " -0.08056641 -0.17480469 -0.13574219  0.47265625 -0.04711914  0.18945312\n",
            "  0.26953125  0.10742188  0.01483154  0.15039062 -0.16113281 -0.09326172\n",
            " -0.13964844  0.04052734 -0.16308594 -0.14453125 -0.20996094  0.16699219\n",
            "  0.02001953 -0.28125     0.15722656 -0.03344727 -0.2734375   0.28125   ]\n"
          ]
        }
      ]
    },
    {
      "cell_type": "code",
      "source": [
        "print(euclidean(vectors['sword'],vectors['knife']))\n",
        "print(euclidean(vectors['sword'],vectors['herring']))\n",
        "print(euclidean(vectors['car'],vectors['van']))"
      ],
      "metadata": {
        "colab": {
          "base_uri": "https://localhost:8080/"
        },
        "id": "9ekuRmRqYT2T",
        "outputId": "816f1583-b6d7-416d-f234-d9b94f0576dc"
      },
      "execution_count": 7,
      "outputs": [
        {
          "output_type": "stream",
          "name": "stdout",
          "text": [
            "3.2766972\n",
            "4.9384727\n",
            "2.608656\n"
          ]
        }
      ]
    },
    {
      "cell_type": "code",
      "source": [
        "print(euclidean(vectors['sword'],vectors['knife']))"
      ],
      "metadata": {
        "colab": {
          "base_uri": "https://localhost:8080/"
        },
        "id": "e-6diPGMYWe2",
        "outputId": "07750fa9-8461-4543-ce4e-380d584f247a"
      },
      "execution_count": 9,
      "outputs": [
        {
          "output_type": "stream",
          "name": "stdout",
          "text": [
            "3.2766972\n"
          ]
        }
      ]
    },
    {
      "cell_type": "code",
      "source": [
        "print(euclidean(vectors['sword'],vectors['herring']))"
      ],
      "metadata": {
        "colab": {
          "base_uri": "https://localhost:8080/"
        },
        "id": "g5kaFpYMYZuW",
        "outputId": "d0f0e5b9-6e9c-4905-c30e-220d57d3f1de"
      },
      "execution_count": 10,
      "outputs": [
        {
          "output_type": "stream",
          "name": "stdout",
          "text": [
            "4.9384727\n"
          ]
        }
      ]
    },
    {
      "cell_type": "code",
      "source": [
        "print(euclidean(vectors['car'],vectors['van']))"
      ],
      "metadata": {
        "colab": {
          "base_uri": "https://localhost:8080/"
        },
        "id": "e2U52SLGYf09",
        "outputId": "70ce6bbb-f310-470c-8da8-c95f12bd162e"
      },
      "execution_count": 11,
      "outputs": [
        {
          "output_type": "stream",
          "name": "stdout",
          "text": [
            "2.608656\n"
          ]
        }
      ]
    },
    {
      "cell_type": "code",
      "source": [
        "def dot_product(vector1,vector2):\n",
        "  thedotproduct=np.sum([vector1[k]*vector2[k] for k in range(0,len(vector1))])\n",
        "  return(thedotproduct)\n",
        "def vector_norm(vector):\n",
        "  thenorm=np.sqrt(dot_product(vector,vector))\n",
        "  return(thenorm)\n",
        "def cosine_similarity(vector1,vector2):\n",
        "  thecosine=0\n",
        "  thedotproduct=dot_product(vector1,vector2)\n",
        "  thecosine=thedotproduct/(vector_norm(vector1)*vector_norm(vector2))\n",
        "  thecosine=np.round(thecosine,4)\n",
        "  return(thecosine)"
      ],
      "metadata": {
        "id": "7VE15WhxYhi3"
      },
      "execution_count": 12,
      "outputs": []
    },
    {
      "cell_type": "code",
      "source": [
        "print(cosine_similarity(vectors['sword'],vectors['knife']))\n",
        "print(cosine_similarity(vectors['sword'],vectors['herring']))\n",
        "print(cosine_similarity(vectors['car'],vectors['van']))"
      ],
      "metadata": {
        "colab": {
          "base_uri": "https://localhost:8080/"
        },
        "id": "LInrbaApYpha",
        "outputId": "6ab5c244-b6bf-4703-9aeb-a892d879909e"
      },
      "execution_count": 13,
      "outputs": [
        {
          "output_type": "stream",
          "name": "stdout",
          "text": [
            "0.5576\n",
            "0.0529\n",
            "0.6116\n"
          ]
        }
      ]
    },
    {
      "cell_type": "code",
      "source": [
        "print(cosine_similarity(vectors['sword'],vectors['knife']))"
      ],
      "metadata": {
        "colab": {
          "base_uri": "https://localhost:8080/"
        },
        "id": "uvYMdQ3nYqP8",
        "outputId": "9ecf7a9e-03b2-4e92-a089-863140719bba"
      },
      "execution_count": 14,
      "outputs": [
        {
          "output_type": "stream",
          "name": "stdout",
          "text": [
            "0.5576\n"
          ]
        }
      ]
    },
    {
      "cell_type": "code",
      "source": [
        "print(cosine_similarity(vectors['sword'],vectors['herring']))"
      ],
      "metadata": {
        "colab": {
          "base_uri": "https://localhost:8080/"
        },
        "id": "lrfOt2sKYsBb",
        "outputId": "b388ad8d-def1-4b6c-a5f8-ec30a02ca26f"
      },
      "execution_count": 15,
      "outputs": [
        {
          "output_type": "stream",
          "name": "stdout",
          "text": [
            "0.0529\n"
          ]
        }
      ]
    },
    {
      "cell_type": "code",
      "source": [
        "print(cosine_similarity(vectors['car'],vectors['van']))"
      ],
      "metadata": {
        "colab": {
          "base_uri": "https://localhost:8080/"
        },
        "id": "jTf3ayHTYt75",
        "outputId": "8608706e-42ae-45e2-df6c-de2fca95f521"
      },
      "execution_count": 16,
      "outputs": [
        {
          "output_type": "stream",
          "name": "stdout",
          "text": [
            "0.6116\n"
          ]
        }
      ]
    },
    {
      "cell_type": "code",
      "source": [
        "#Manipulating Vectors with Mathematical Calculations\n",
        "king = vectors['king']\n",
        "queen = vectors['queen']\n",
        "man = vectors['man']\n",
        "woman = vectors['woman']"
      ],
      "metadata": {
        "id": "hY9wj9cQYwBZ"
      },
      "execution_count": 17,
      "outputs": []
    },
    {
      "cell_type": "code",
      "source": [
        "newvector = king-man+woman"
      ],
      "metadata": {
        "id": "o8b8XoVgY0Xi"
      },
      "execution_count": 18,
      "outputs": []
    },
    {
      "cell_type": "code",
      "source": [
        "print(cosine_similarity(newvector,queen))\n",
        "print(euclidean(newvector,queen))"
      ],
      "metadata": {
        "colab": {
          "base_uri": "https://localhost:8080/"
        },
        "id": "zRslviF8Y1-5",
        "outputId": "c7c7c067-60bb-4d0a-fd8b-09aac9a2e060"
      },
      "execution_count": 19,
      "outputs": [
        {
          "output_type": "stream",
          "name": "stdout",
          "text": [
            "0.7301\n",
            "2.298658\n"
          ]
        }
      ]
    },
    {
      "cell_type": "code",
      "source": [
        "print(cosine_similarity(vectors['fish'],vectors['herring']))\n",
        "print(euclidean(vectors['fish'],vectors['herring']))"
      ],
      "metadata": {
        "colab": {
          "base_uri": "https://localhost:8080/"
        },
        "id": "BSj2CJbSY5Ap",
        "outputId": "1fce0dc3-9c74-4373-a281-027fce532183"
      },
      "execution_count": 20,
      "outputs": [
        {
          "output_type": "stream",
          "name": "stdout",
          "text": [
            "0.6992\n",
            "2.7537737\n"
          ]
        }
      ]
    },
    {
      "cell_type": "code",
      "source": [
        "#Detecting Plagiarism with word2vec\n",
        "print(cosine_similarity(vectors['the'],vectors['the']))\n",
        "print(euclidean(vectors['having'],vectors['having']))"
      ],
      "metadata": {
        "colab": {
          "base_uri": "https://localhost:8080/"
        },
        "id": "gr90ZiYPY6o0",
        "outputId": "7ab6632f-a8a9-40ed-d2db-f926bd3239b5"
      },
      "execution_count": 21,
      "outputs": [
        {
          "output_type": "stream",
          "name": "stdout",
          "text": [
            "1.0\n",
            "0.0\n"
          ]
        }
      ]
    },
    {
      "cell_type": "code",
      "source": [
        "print(cosine_similarity(vectors['trouble'],vectors['problem']))\n",
        "print(euclidean(vectors['come'],vectors['approach']))\n",
        "print(cosine_similarity(vectors['put'],vectors['insert']))"
      ],
      "metadata": {
        "colab": {
          "base_uri": "https://localhost:8080/"
        },
        "id": "UG7mnd46Y_W5",
        "outputId": "7f765f39-8776-48a5-c58c-49d022a952fc"
      },
      "execution_count": 22,
      "outputs": [
        {
          "output_type": "stream",
          "name": "stdout",
          "text": [
            "0.5327\n",
            "2.9844923\n",
            "0.3435\n"
          ]
        }
      ]
    },
    {
      "cell_type": "code",
      "source": [
        "print(cosine_similarity(vectors['trouble'],vectors['problem']))"
      ],
      "metadata": {
        "colab": {
          "base_uri": "https://localhost:8080/"
        },
        "id": "-Aqn-zM9ZBKm",
        "outputId": "7c29f4fb-c9c7-4b20-f406-7e133532741b"
      },
      "execution_count": 24,
      "outputs": [
        {
          "output_type": "stream",
          "name": "stdout",
          "text": [
            "0.5327\n"
          ]
        }
      ]
    },
    {
      "cell_type": "code",
      "source": [
        "print(euclidean(vectors['come'],vectors['approach']))"
      ],
      "metadata": {
        "colab": {
          "base_uri": "https://localhost:8080/"
        },
        "id": "H55TyIytZDeP",
        "outputId": "7db7211f-67e8-4ae6-9c99-ab5ca6e9274a"
      },
      "execution_count": 25,
      "outputs": [
        {
          "output_type": "stream",
          "name": "stdout",
          "text": [
            "2.9844923\n"
          ]
        }
      ]
    },
    {
      "cell_type": "code",
      "source": [
        "print(cosine_similarity(vectors['put'],vectors['insert']))"
      ],
      "metadata": {
        "colab": {
          "base_uri": "https://localhost:8080/"
        },
        "id": "e5DYzvLLZFlW",
        "outputId": "1b8c2079-809c-4a3c-b449-04bd88199456"
      },
      "execution_count": 26,
      "outputs": [
        {
          "output_type": "stream",
          "name": "stdout",
          "text": [
            "0.3435\n"
          ]
        }
      ]
    },
    {
      "cell_type": "code",
      "source": [
        "#Using Skip-Thoughts\n",
        "Sentences = [\n",
        "  \"The trouble with having an open mind, of course, is that people will insist on coming along and trying to put things in it.\",\\\n",
        "  \"The problem with having an open mind is that people will insist on approaching and trying to insert things into your mind.\",\\\n",
        "  \"To be or not to be, that is the question\",\\\n",
        "  \"Call me Ishmael\"\n",
        "]"
      ],
      "metadata": {
        "id": "JGgLhma2ZH0S"
      },
      "execution_count": 28,
      "outputs": []
    },
    {
      "cell_type": "code",
      "source": [
        "import tensorflow_hub as hub\n",
        "embed = hub.load(\"https://tfhub.dev/google/universal-sentence-encoder-large/5\")"
      ],
      "metadata": {
        "id": "izSAjIIKZTM_"
      },
      "execution_count": 29,
      "outputs": []
    },
    {
      "cell_type": "code",
      "source": [
        "embeddings = embed(Sentences)"
      ],
      "metadata": {
        "id": "AhOQ9k4rZjQh"
      },
      "execution_count": 30,
      "outputs": []
    },
    {
      "cell_type": "code",
      "source": [
        "print(embeddings[0])"
      ],
      "metadata": {
        "colab": {
          "base_uri": "https://localhost:8080/"
        },
        "id": "rApERcsCZq-n",
        "outputId": "f825454c-e5f8-4922-aa50-d78955843e3e"
      },
      "execution_count": 31,
      "outputs": [
        {
          "output_type": "stream",
          "name": "stdout",
          "text": [
            "tf.Tensor(\n",
            "[ 9.70237947e-04 -5.99743314e-02 -2.84199207e-03  7.49063585e-03\n",
            "  7.74949417e-02 -1.00521487e-03 -7.75496215e-02  4.12208177e-02\n",
            " -1.55478413e-03 -1.11693352e-01  2.58275643e-02 -1.15299802e-02\n",
            " -3.85080639e-05 -4.07183804e-02  3.69430520e-02  6.66357949e-02\n",
            " -2.35661454e-02  8.99886154e-03 -2.71403119e-02 -5.69591532e-03\n",
            "  5.81006296e-02 -7.52893183e-03 -1.46736605e-02  3.34217101e-02\n",
            " -2.83413902e-02 -2.66162567e-02  8.27136412e-02  2.97723860e-02\n",
            " -6.22679926e-02 -1.03821931e-02 -2.17885152e-02 -6.10623322e-02\n",
            " -1.82683375e-02 -1.00083165e-01 -4.11456674e-02  1.05086295e-02\n",
            "  5.70789501e-02  2.31803674e-02  1.20034460e-02 -7.01200822e-03\n",
            "  1.10151060e-02  2.03509554e-02  6.42644316e-02 -3.29411626e-02\n",
            "  1.36516029e-02 -3.94356810e-02 -2.31788680e-02  3.67378518e-02\n",
            " -4.63137031e-02 -8.05743933e-02  3.57695147e-02  7.44107813e-02\n",
            "  4.48199846e-02  7.86107499e-03  1.17291100e-02  7.10516842e-03\n",
            " -3.36441919e-02 -2.01603081e-02  2.59170495e-02 -2.25279722e-02\n",
            " -6.86499402e-02  3.12200468e-02 -6.12286329e-02  4.56264094e-02\n",
            " -8.34532455e-03 -6.52796552e-02  5.57004362e-02  5.03132343e-02\n",
            " -2.91455211e-03  9.04142857e-03 -5.34391589e-02 -3.32410261e-02\n",
            " -6.06127316e-03  4.10819538e-02 -7.21714124e-02  2.96450220e-02\n",
            " -4.22946177e-02 -2.14660466e-02  1.55433267e-02 -1.15350084e-02\n",
            " -2.62626801e-02  4.52729762e-02 -5.02717756e-02 -3.15805059e-03\n",
            "  3.38779166e-02  6.41152821e-03  2.34204996e-02  9.62009840e-03\n",
            "  1.22694727e-02 -2.16998272e-02  6.02377653e-02  2.30888631e-02\n",
            "  1.43612046e-02  6.26451820e-02  2.34872550e-02  7.57240430e-02\n",
            "  5.53671941e-02  2.73302328e-02 -4.61425819e-02  1.70651041e-02\n",
            " -3.02218515e-02  1.85127917e-03  3.70283946e-02 -6.36844262e-02\n",
            " -7.61072189e-02 -1.22697717e-02 -3.38833733e-03  3.18626352e-02\n",
            "  7.73800723e-03  1.00817438e-02 -5.02482317e-02  1.11433320e-01\n",
            "  2.11311430e-02 -6.46046475e-02 -5.81049435e-02  2.72929319e-03\n",
            "  2.57360656e-02  6.34748563e-02 -5.74486144e-02  7.26707056e-02\n",
            " -1.30340047e-02 -4.02337760e-02  6.23945184e-02  5.61221456e-03\n",
            " -3.62421311e-02 -2.79459991e-02 -1.47320619e-02 -5.65960966e-02\n",
            "  3.68624181e-02 -1.54216886e-02 -3.13500203e-02  8.62492695e-02\n",
            " -7.40652233e-02 -2.26289537e-02 -1.64112430e-02 -9.42809060e-02\n",
            "  2.25900691e-02 -4.39405926e-02  2.67029013e-02 -4.38184664e-02\n",
            " -1.80225400e-03  4.24297415e-02  7.90519342e-02  3.05621652e-03\n",
            " -6.20347634e-02 -2.70659439e-02  7.92534202e-02 -2.89021842e-02\n",
            "  6.27279107e-04  2.93278899e-02 -5.92093617e-02 -2.91852932e-02\n",
            " -5.80403954e-02 -7.93083981e-02  6.25467743e-04  1.45015924e-03\n",
            "  2.68066805e-02  3.05392966e-02 -8.37100483e-03  6.29298538e-02\n",
            "  3.48844286e-03  2.92149018e-02 -5.84160052e-02  1.27997342e-02\n",
            "  4.14555445e-02  1.19556300e-02  5.05241053e-03 -1.60815772e-02\n",
            "  1.85803156e-02  9.78262443e-03 -1.11562228e-02 -3.17177251e-02\n",
            "  2.57937778e-02 -2.65928824e-02 -1.06882425e-02 -7.41224140e-02\n",
            " -1.09188829e-03 -1.30813830e-02  5.58793955e-02 -1.51369544e-02\n",
            " -4.18861769e-03  5.33982068e-02  4.85822521e-02  3.25322412e-02\n",
            "  5.54780290e-03  5.40812165e-02 -2.35237703e-02  2.07454823e-02\n",
            " -3.94433178e-02 -4.83682007e-02  2.15600245e-03 -3.30262929e-02\n",
            " -7.00944336e-03 -2.90680565e-02 -1.77805685e-02 -5.76171689e-02\n",
            "  3.50533836e-02  8.58586505e-02  2.49599339e-03  2.84679197e-02\n",
            "  1.32384419e-01 -4.31096219e-02 -4.08126004e-02  1.32237282e-02\n",
            " -5.26458919e-02 -2.29150597e-02 -9.05700680e-03 -7.94319138e-02\n",
            " -6.20631911e-02 -1.91501598e-03  4.04751338e-02 -5.75836226e-02\n",
            " -1.22806076e-02 -9.45009198e-03 -3.77811007e-02 -3.09574138e-02\n",
            " -2.94234348e-03 -2.68631298e-02  5.61114214e-02  3.44393142e-02\n",
            " -6.80001304e-02  1.25721529e-01 -4.57372032e-02 -1.69039965e-02\n",
            "  5.58754988e-02 -4.18181606e-02 -3.70178334e-02  1.34551227e-02\n",
            "  4.86029498e-03 -5.67981228e-03 -2.57159062e-02  1.57157034e-02\n",
            " -4.05748859e-02 -1.88964214e-02  8.56171325e-02 -4.92814812e-04\n",
            "  4.56089377e-02  3.59854810e-02 -5.00682853e-02  1.64916273e-02\n",
            "  2.89408136e-02  1.02973975e-01  2.55214106e-02 -1.02631282e-02\n",
            " -4.51292358e-02 -6.14789575e-02  1.55711854e-02  5.95894009e-02\n",
            " -1.79369655e-02 -1.30043738e-02 -3.90276983e-02 -1.92332116e-03\n",
            "  4.72637676e-02 -3.88914794e-02 -7.98584614e-03  4.24117967e-02\n",
            " -1.85017157e-02  3.58786923e-03 -3.16200256e-02  7.78939128e-02\n",
            "  1.57360791e-03  3.52033563e-02  7.18359312e-04 -3.19432467e-02\n",
            "  7.06805661e-02 -7.49136806e-02  7.48898834e-02 -3.41640152e-02\n",
            "  2.49520410e-02 -3.06118354e-02  2.55637802e-03 -1.06642239e-01\n",
            " -9.05019566e-02  5.71497753e-02  3.07829119e-02 -2.38648336e-02\n",
            " -2.35503260e-03 -9.73041356e-02 -6.92953765e-02 -3.46504385e-03\n",
            "  3.73308957e-02 -1.55269215e-02 -3.69213475e-03 -2.72298940e-02\n",
            " -6.34423643e-03  1.11780897e-01  1.84937697e-02  4.70187552e-02\n",
            "  7.21602663e-02  2.11317912e-02  2.20222212e-02  3.11703589e-02\n",
            " -1.50396358e-02 -2.98872609e-02  6.25285953e-02 -2.94153355e-02\n",
            " -2.99025141e-02  3.05612031e-02  9.01093055e-03  2.99633648e-02\n",
            "  9.46124420e-02 -6.93610683e-02 -4.99696173e-02  7.80219063e-02\n",
            "  2.49604080e-02 -1.56180179e-02 -1.01395831e-01 -4.04890738e-02\n",
            " -1.19670331e-02  1.66876521e-02  6.43390268e-02  4.12706546e-02\n",
            "  4.97410074e-02  6.88993046e-03 -1.26729175e-01  2.23888606e-02\n",
            "  4.48343381e-02 -3.82169038e-02  1.46074938e-02 -7.93807730e-02\n",
            "  1.83046814e-02  5.37567101e-02  7.84359947e-02 -1.57472529e-02\n",
            " -5.09504601e-02  3.13296467e-02  1.34216240e-02  3.34632546e-02\n",
            "  3.11683454e-02  5.23486212e-02 -6.35559261e-02 -3.37245315e-02\n",
            "  8.79782811e-03  2.82302238e-02 -4.35869023e-03  2.49453099e-03\n",
            "  5.92207350e-03 -7.95412436e-02 -3.98350768e-02 -1.14130773e-01\n",
            "  3.07973102e-02  3.65302828e-03 -8.17808602e-03 -8.20992291e-02\n",
            " -2.49486249e-02  5.85941179e-03 -1.99229047e-02 -4.68588658e-02\n",
            " -2.08926834e-02 -2.15141624e-02 -3.43634561e-02  2.00344622e-02\n",
            " -2.53076348e-02  2.20779348e-02 -3.38364914e-02 -5.18912449e-02\n",
            "  4.02167626e-02 -3.33428266e-03 -5.27512468e-02 -2.67082788e-02\n",
            "  4.04711301e-03  2.28342712e-02  1.08969875e-01  5.55842035e-02\n",
            "  7.14900196e-02  1.93922520e-02  3.39621380e-02 -7.38305449e-02\n",
            "  2.37126108e-02  4.86510694e-02 -2.28744149e-02  2.70821210e-02\n",
            "  1.21876011e-02 -7.24764541e-02  2.53225900e-02  3.17273438e-02\n",
            "  8.70425813e-03 -9.19545069e-03 -4.32915762e-02 -2.95870397e-02\n",
            " -6.97591109e-03 -8.59668572e-03  6.94527244e-03  3.38132828e-02\n",
            "  7.12531805e-02  2.47619543e-02  1.41364578e-02  3.26551087e-02\n",
            " -3.56459096e-02  2.21443325e-02  4.67570387e-02  8.57447982e-02\n",
            "  3.76798883e-02 -4.13491800e-02 -1.08022271e-02 -1.30151540e-01\n",
            " -5.07919900e-02 -1.77866109e-02  4.78034802e-02 -1.89196654e-02\n",
            " -1.29245566e-02 -1.78934112e-02 -6.53341413e-02 -2.95057637e-03\n",
            "  5.09436093e-02 -4.99483459e-02 -3.26090567e-02 -9.47056152e-03\n",
            "  8.34910013e-03  4.71281027e-03  1.39808375e-02 -7.08217472e-02\n",
            "  4.88249585e-02  2.58295666e-02 -7.49668153e-03 -8.40384141e-02\n",
            " -2.48396806e-02  8.29821266e-03  5.65552264e-02  4.24903557e-02\n",
            " -7.38228410e-02  3.07658240e-02 -7.96775073e-02 -8.58333483e-02\n",
            "  6.93277270e-02  2.50972491e-02 -4.09678258e-02 -7.14036869e-03\n",
            "  1.01578914e-01 -2.66638901e-02 -4.30527218e-02 -4.45695641e-03\n",
            " -1.52608873e-02  3.92531641e-02 -3.41244154e-02 -5.37247919e-02\n",
            " -9.94679425e-03 -6.97218776e-02 -3.42575982e-02  6.25456171e-03\n",
            "  2.87956763e-02 -2.73932014e-02  1.88508201e-02  7.97912627e-02\n",
            "  1.52913341e-03  6.78732097e-02  1.39363632e-02  4.79819737e-02\n",
            " -8.91414657e-02 -1.21299429e-02 -2.64793746e-02  1.43493642e-03\n",
            "  1.56961624e-02  8.60031694e-02 -2.32932549e-02 -4.41982783e-02\n",
            " -1.48751726e-02  2.12706043e-03 -4.47475351e-02  5.87500818e-03\n",
            " -5.63837737e-02  1.79544184e-02 -1.09695001e-02  5.16302139e-02\n",
            "  7.67534524e-02 -3.70433405e-02  5.47212809e-02 -7.10915476e-02\n",
            "  2.10150946e-02 -1.86211113e-02  2.90583707e-02  3.10234092e-02\n",
            " -1.32657180e-03  4.94536348e-02  2.40199864e-02 -2.46655401e-02\n",
            " -2.28673499e-02  4.14920524e-02  7.13931024e-03 -4.17817943e-03\n",
            "  6.18529469e-02  1.53893270e-02  2.93690208e-02 -3.62300612e-02\n",
            " -5.13631590e-02 -3.63353379e-02 -1.25818342e-01 -3.70631777e-02\n",
            " -2.08840724e-02 -2.85322294e-02  9.64061916e-03 -3.96581227e-03\n",
            "  2.73592155e-02  2.45564580e-02  2.08424777e-02  3.48037742e-02\n",
            " -1.16539709e-02 -1.01968115e-02 -5.43352365e-02  5.71582355e-02\n",
            "  1.88409388e-02 -2.76054367e-02  1.40067115e-02 -5.03204502e-02\n",
            " -8.15873407e-03 -1.43642966e-02  3.13680768e-02 -2.23774952e-03\n",
            "  1.49832098e-02 -3.06693744e-02  5.80385514e-02  1.03938449e-02], shape=(512,), dtype=float32)\n"
          ]
        }
      ]
    },
    {
      "cell_type": "code",
      "source": [
        "print(cosine_similarity(embeddings[0],embeddings[1]))"
      ],
      "metadata": {
        "colab": {
          "base_uri": "https://localhost:8080/"
        },
        "id": "Nqaqqd6mZteI",
        "outputId": "3716163b-e90d-44d3-808c-6378db5c075b"
      },
      "execution_count": 32,
      "outputs": [
        {
          "output_type": "stream",
          "name": "stdout",
          "text": [
            "0.8525\n"
          ]
        }
      ]
    },
    {
      "cell_type": "code",
      "source": [
        "print(cosine_similarity(embeddings[0],embeddings[2]))"
      ],
      "metadata": {
        "colab": {
          "base_uri": "https://localhost:8080/"
        },
        "id": "1lVSvStvZ0py",
        "outputId": "a0691db3-4555-471a-c7df-8796546aeed0"
      },
      "execution_count": 33,
      "outputs": [
        {
          "output_type": "stream",
          "name": "stdout",
          "text": [
            "0.0656\n"
          ]
        }
      ]
    },
    {
      "cell_type": "code",
      "source": [
        "print(cosine_similarity(embeddings[0],embeddings[3])),"
      ],
      "metadata": {
        "colab": {
          "base_uri": "https://localhost:8080/"
        },
        "id": "gcZwKjMMZ149",
        "outputId": "5a3fab9c-cd1d-42bf-f704-f7b754f17ffc"
      },
      "execution_count": 34,
      "outputs": [
        {
          "output_type": "stream",
          "name": "stdout",
          "text": [
            "-0.0705\n"
          ]
        },
        {
          "output_type": "execute_result",
          "data": {
            "text/plain": [
              "(None,)"
            ]
          },
          "metadata": {},
          "execution_count": 34
        }
      ]
    },
    {
      "cell_type": "code",
      "source": [
        "#Topic Modeling\n",
        "Sentences = [\n",
        "  \"The corn and cheese are delicious when they're roasted together\",\n",
        "  \"Several of the scenes have rich settings but weak characterization\",\n",
        "  \"Consider adding extra seasoning to the pork\",\n",
        "  \"The prose was overwrought and pretentious\",\n",
        "  \"There are some nice brisket slices on the menu\",\n",
        "  \"It would be better to have a chapter to introduce your main plot ideas\",\n",
        "  \"Everything was cold when the waiter brought it to the table\",\n",
        "  \"You can probably find it at a cheaper price in bookstores\"\n",
        "]"
      ],
      "metadata": {
        "id": "0V8A9L5SZ5ck"
      },
      "execution_count": 35,
      "outputs": []
    },
    {
      "cell_type": "code",
      "source": [
        "embeddings = embed(Sentences)"
      ],
      "metadata": {
        "id": "LoKS8_NbaBJ5"
      },
      "execution_count": 36,
      "outputs": []
    },
    {
      "cell_type": "code",
      "source": [
        "arrays=[]\n",
        "for i in range(len(Sentences)):\n",
        "  arrays.append(np.array(embeddings[i]))\n",
        "sentencematrix = np.empty((len(Sentences),512,), order = \"F\")\n",
        "for i in range(len(Sentences)):\n",
        "  sentencematrix[i]=arrays[i]\n",
        "import pandas as pd\n",
        "pandasmatrix=pd.DataFrame(sentencematrix)"
      ],
      "metadata": {
        "id": "s00ERwlNaC2f"
      },
      "execution_count": 37,
      "outputs": []
    },
    {
      "cell_type": "code",
      "source": [
        "from sklearn.cluster import KMeans\n",
        "m = KMeans(2)\n",
        "m.fit(pandasmatrix)\n",
        "pandasmatrix['topic'] = m.labels_\n",
        "pandasmatrix['sentences']=Sentences"
      ],
      "metadata": {
        "id": "-MOkO80PaI35"
      },
      "execution_count": 38,
      "outputs": []
    },
    {
      "cell_type": "code",
      "source": [
        "print(pandasmatrix.loc[pandasmatrix['topic']==0,'sentences'])\n",
        "print(pandasmatrix.loc[pandasmatrix['topic']==1,'sentences'])"
      ],
      "metadata": {
        "colab": {
          "base_uri": "https://localhost:8080/"
        },
        "id": "_xtqHZQ2aMBM",
        "outputId": "57efac34-e5cc-4420-aacd-b653b809ac31"
      },
      "execution_count": 39,
      "outputs": [
        {
          "output_type": "stream",
          "name": "stdout",
          "text": [
            "0    The corn and cheese are delicious when they're...\n",
            "2          Consider adding extra seasoning to the pork\n",
            "3            The prose was overwrought and pretentious\n",
            "4       There are some nice brisket slices on the menu\n",
            "6    Everything was cold when the waiter brought it...\n",
            "Name: sentences, dtype: object\n",
            "1    Several of the scenes have rich settings but w...\n",
            "5    It would be better to have a chapter to introd...\n",
            "7    You can probably find it at a cheaper price in...\n",
            "Name: sentences, dtype: object\n"
          ]
        }
      ]
    },
    {
      "cell_type": "code",
      "source": [
        "print(pandasmatrix.loc[pandasmatrix['topic']==0,'sentences'])"
      ],
      "metadata": {
        "colab": {
          "base_uri": "https://localhost:8080/"
        },
        "id": "g-fRJRs8aOFO",
        "outputId": "bc445635-fb65-4cad-8d65-70cc875dda10"
      },
      "execution_count": 40,
      "outputs": [
        {
          "output_type": "stream",
          "name": "stdout",
          "text": [
            "0    The corn and cheese are delicious when they're...\n",
            "2          Consider adding extra seasoning to the pork\n",
            "3            The prose was overwrought and pretentious\n",
            "4       There are some nice brisket slices on the menu\n",
            "6    Everything was cold when the waiter brought it...\n",
            "Name: sentences, dtype: object\n"
          ]
        }
      ]
    },
    {
      "cell_type": "code",
      "source": [
        "print(pandasmatrix.loc[pandasmatrix['topic']==1,'sentences'])"
      ],
      "metadata": {
        "colab": {
          "base_uri": "https://localhost:8080/"
        },
        "id": "JHXQO101aRWl",
        "outputId": "0f883ccc-d028-4a1c-e9b3-65aed8df83e9"
      },
      "execution_count": 41,
      "outputs": [
        {
          "output_type": "stream",
          "name": "stdout",
          "text": [
            "1    Several of the scenes have rich settings but w...\n",
            "5    It would be better to have a chapter to introd...\n",
            "7    You can probably find it at a cheaper price in...\n",
            "Name: sentences, dtype: object\n"
          ]
        }
      ]
    },
    {
      "cell_type": "markdown",
      "source": [
        "Summary: I covered natural language processing (NLP), focusing on how embeddings—numeric vectors representing words and sentences—are foundational to NLP applications. By representing words numerically, we can perform calculations, such as measuring similarity (used in plagiarism detection) and clustering (applied in topic modeling). While NLP tools can be complex to learn, their capabilities are impressive."
      ],
      "metadata": {
        "id": "Ij_w6STXafVF"
      }
    }
  ]
}