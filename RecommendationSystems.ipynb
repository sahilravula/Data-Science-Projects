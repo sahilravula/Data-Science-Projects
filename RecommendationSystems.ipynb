{
  "nbformat": 4,
  "nbformat_minor": 0,
  "metadata": {
    "colab": {
      "provenance": []
    },
    "kernelspec": {
      "name": "python3",
      "display_name": "Python 3"
    },
    "language_info": {
      "name": "python"
    }
  },
  "cells": [
    {
      "cell_type": "markdown",
      "source": [
        "# RECOMMENDATION SYSTEMS\n",
        "Before coding recommendation systems, it's useful to consider general recommendation strategies. Imagine being a salesperson recommending items to a customer: if you know them, you can make personalized suggestions based on their preferences. For a new customer, you might base suggestions on what they browse, or, if they haven't browsed yet, recommend popular items. This need to recommend without prior customer knowledge is called the \"cold-start problem.\" In such cases, recommending popular items is a straightforward approach that online retailers also use when they lack visitor data."
      ],
      "metadata": {
        "id": "HuU7Sey6TPTR"
      }
    },
    {
      "cell_type": "code",
      "execution_count": 1,
      "metadata": {
        "colab": {
          "base_uri": "https://localhost:8080/"
        },
        "id": "j8DtxkLJRAfM",
        "outputId": "056e1d0f-7bfc-4a8c-c23c-87da099683ac"
      },
      "outputs": [
        {
          "output_type": "stream",
          "name": "stdout",
          "text": [
            "            user1  user2  user3  user4  user5\n",
            "Unnamed: 0                                   \n",
            "item1           1      1      0      1      1\n",
            "item2           1      0      1      1      0\n",
            "item3           1      1      0      1      1\n",
            "item4           1      0      1      0      1\n",
            "item5           1      1      0      0      1\n"
          ]
        }
      ],
      "source": [
        "#Popularity-Based Recommendations\n",
        "import pandas as pd\n",
        "import numpy as np\n",
        "interaction=pd.read_csv('https://bradfordtuckfield.com/purchasehistory1.csv')\n",
        "interaction.set_index(\"Unnamed: 0\", inplace = True)\n",
        "print(interaction)"
      ]
    },
    {
      "cell_type": "code",
      "source": [
        "interaction_withcounts=interaction.copy()\n",
        "interaction_withcounts.loc[:,'counts']=interaction_withcounts.sum(axis=1)\n",
        "interaction_withcounts=interaction_withcounts.sort_values(by='counts',ascending=False)\n",
        "print(list(interaction_withcounts.index))"
      ],
      "metadata": {
        "colab": {
          "base_uri": "https://localhost:8080/"
        },
        "id": "TJ99sQopRP3p",
        "outputId": "f6e84d64-c6af-4b4f-eee8-c139d9325826"
      },
      "execution_count": 2,
      "outputs": [
        {
          "output_type": "stream",
          "name": "stdout",
          "text": [
            "['item1', 'item3', 'item2', 'item4', 'item5']\n"
          ]
        }
      ]
    },
    {
      "cell_type": "code",
      "source": [
        "def popularity_based(interaction):\n",
        "  interaction_withcounts=interaction.copy()\n",
        "  interaction_withcounts.loc[:,'counts']=interaction_withcounts.sum(axis=1)\n",
        "  sorted = interaction_withcounts.sort_values(by='counts',ascending=False)\n",
        "  most_popular=list(sorted.index)\n",
        "  return(most_popular)"
      ],
      "metadata": {
        "id": "1VHu-N_lRRli"
      },
      "execution_count": 4,
      "outputs": []
    },
    {
      "cell_type": "code",
      "source": [
        "#Item-Based Collaborative Filtering\n",
        "#Measuring Vector Similarity\n",
        "print(list(interaction.loc['item1',:]))"
      ],
      "metadata": {
        "colab": {
          "base_uri": "https://localhost:8080/"
        },
        "id": "UDE1HqO1RX-6",
        "outputId": "5d8ac730-fcff-4408-9aba-f0ff60a2905e"
      },
      "execution_count": 5,
      "outputs": [
        {
          "output_type": "stream",
          "name": "stdout",
          "text": [
            "[1, 1, 0, 1, 1]\n"
          ]
        }
      ]
    },
    {
      "cell_type": "code",
      "source": [
        "#Calculating Cosine Similarity\n",
        "def dot_product(vector1,vector2):\n",
        "  thedotproduct=np.sum([vector1[k]*vector2[k] for k in range(0,len(vector1))])\n",
        "  return(thedotproduct)"
      ],
      "metadata": {
        "id": "XYbCQD5RRiYB"
      },
      "execution_count": 6,
      "outputs": []
    },
    {
      "cell_type": "code",
      "source": [
        "def vector_norm(vector):\n",
        "  thenorm=np.sqrt(dot_product(vector,vector))\n",
        "  return(thenorm)"
      ],
      "metadata": {
        "id": "k4GXxATRRquC"
      },
      "execution_count": 7,
      "outputs": []
    },
    {
      "cell_type": "code",
      "source": [
        "def cosine_similarity(vector1,vector2):\n",
        "  thedotproduct=dot_product(vector1,vector2)\n",
        "  thecosine=thedotproduct/(vector_norm(vector1)*vector_norm(vector2))\n",
        "  thecosine=np.round(thecosine,4)\n",
        "  return(thecosine)"
      ],
      "metadata": {
        "id": "qoVsOzijRtnx"
      },
      "execution_count": 8,
      "outputs": []
    },
    {
      "cell_type": "code",
      "source": [
        "import numpy as np\n",
        "item1=interaction.loc['item1',:]\n",
        "item3=interaction.loc['item3',:]\n",
        "print(cosine_similarity(item1,item3))"
      ],
      "metadata": {
        "colab": {
          "base_uri": "https://localhost:8080/"
        },
        "id": "-KQ52yiMRxk1",
        "outputId": "0f9c4b53-b7ce-4de9-e830-b66b7520d5ba"
      },
      "execution_count": 9,
      "outputs": [
        {
          "output_type": "stream",
          "name": "stdout",
          "text": [
            "1.0\n"
          ]
        },
        {
          "output_type": "stream",
          "name": "stderr",
          "text": [
            "<ipython-input-6-a282a4a95f08>:3: FutureWarning: Series.__getitem__ treating keys as positions is deprecated. In a future version, integer keys will always be treated as labels (consistent with DataFrame behavior). To access a value by position, use `ser.iloc[pos]`\n",
            "  thedotproduct=np.sum([vector1[k]*vector2[k] for k in range(0,len(vector1))])\n"
          ]
        }
      ]
    },
    {
      "cell_type": "code",
      "source": [
        "#Implementing Item-Based Collaborative Filtering\n",
        "ouritem='item1'\n",
        "otherrows=[rowname for rowname in interaction.index if rowname!=ouritem]\n",
        "otheritems=interaction.loc[otherrows,:]\n",
        "theitem=interaction.loc[ouritem,:]"
      ],
      "metadata": {
        "id": "ql1W9ETeRz_y"
      },
      "execution_count": 10,
      "outputs": []
    },
    {
      "cell_type": "code",
      "source": [
        "similarities=[]\n",
        "for items in otheritems.index:\n",
        "  similarities.append(cosine_similarity(theitem,otheritems.loc[items,:]))\n",
        "otheritems['similarities']=similarities\n",
        "recommendations = list(otheritems.sort_values(by='similarities',ascending=False).index)\n",
        "print(recommendations)"
      ],
      "metadata": {
        "colab": {
          "base_uri": "https://localhost:8080/"
        },
        "id": "_Ut45CsvR5b-",
        "outputId": "6445d242-c3a2-4af1-f427-f9a41d51219d"
      },
      "execution_count": 12,
      "outputs": [
        {
          "output_type": "stream",
          "name": "stdout",
          "text": [
            "['item3', 'item5', 'item2', 'item4']\n"
          ]
        },
        {
          "output_type": "stream",
          "name": "stderr",
          "text": [
            "<ipython-input-6-a282a4a95f08>:3: FutureWarning: Series.__getitem__ treating keys as positions is deprecated. In a future version, integer keys will always be treated as labels (consistent with DataFrame behavior). To access a value by position, use `ser.iloc[pos]`\n",
            "  thedotproduct=np.sum([vector1[k]*vector2[k] for k in range(0,len(vector1))])\n"
          ]
        }
      ]
    },
    {
      "cell_type": "code",
      "source": [
        "def get_item_recommendations(interaction,itemname):\n",
        "  otherrows=[rowname for rowname in interaction.index if rowname!=itemname]\n",
        "  otheritems=interaction.loc[otherrows,:]\n",
        "  theitem=list(interaction.loc[itemname,:])\n",
        "  similarities=[]\n",
        "  for items in otheritems.index:\n",
        "    similarities.append(cosine_similarity(theitem,list(otheritems.loc[items,:])))\n",
        "  otheritems['similarities']=similarities\n",
        "  return list(otheritems.sort_values(by='similarities',ascending=False).index)"
      ],
      "metadata": {
        "id": "XYod977DR8d_"
      },
      "execution_count": 13,
      "outputs": []
    },
    {
      "cell_type": "code",
      "source": [
        "#User-Based Collaborative Filtering\n",
        "user2=interaction.loc[:,'user2']\n",
        "user5=interaction.loc[:,'user5']\n",
        "print(cosine_similarity(user2,user5))"
      ],
      "metadata": {
        "colab": {
          "base_uri": "https://localhost:8080/"
        },
        "id": "Ew2s_NyRSIA1",
        "outputId": "6b5761cf-ccf7-421b-9010-bea78eb77dd9"
      },
      "execution_count": 14,
      "outputs": [
        {
          "output_type": "stream",
          "name": "stdout",
          "text": [
            "0.866\n"
          ]
        },
        {
          "output_type": "stream",
          "name": "stderr",
          "text": [
            "<ipython-input-6-a282a4a95f08>:3: FutureWarning: Series.__getitem__ treating keys as positions is deprecated. In a future version, integer keys will always be treated as labels (consistent with DataFrame behavior). To access a value by position, use `ser.iloc[pos]`\n",
            "  thedotproduct=np.sum([vector1[k]*vector2[k] for k in range(0,len(vector1))])\n"
          ]
        }
      ]
    },
    {
      "cell_type": "code",
      "source": [
        "user3=interaction.loc[:,'user3']\n",
        "user5=interaction.loc[:,'user5']\n",
        "print(cosine_similarity(user3,user5))"
      ],
      "metadata": {
        "colab": {
          "base_uri": "https://localhost:8080/"
        },
        "id": "T5wwqagVSOlV",
        "outputId": "5225eef8-ca63-4345-b394-7eb2777b6429"
      },
      "execution_count": 15,
      "outputs": [
        {
          "output_type": "stream",
          "name": "stdout",
          "text": [
            "0.3536\n"
          ]
        },
        {
          "output_type": "stream",
          "name": "stderr",
          "text": [
            "<ipython-input-6-a282a4a95f08>:3: FutureWarning: Series.__getitem__ treating keys as positions is deprecated. In a future version, integer keys will always be treated as labels (consistent with DataFrame behavior). To access a value by position, use `ser.iloc[pos]`\n",
            "  thedotproduct=np.sum([vector1[k]*vector2[k] for k in range(0,len(vector1))])\n"
          ]
        }
      ]
    },
    {
      "cell_type": "code",
      "source": [
        "def get_similar_users(interaction,username):\n",
        "  othercolumns=[columnname for columnname in interaction.columns if columnname!=username]\n",
        "  otherusers=interaction[othercolumns]\n",
        "  theuser=list(interaction[username])\n",
        "  similarities=[]\n",
        "  for users in otherusers.columns:\n",
        "    similarities.append(cosine_similarity(theuser,list(otherusers.loc[:,users])))\n",
        "  otherusers.loc['similarities',:]=similarities\n",
        "  return list(otherusers.sort_values(by='similarities',axis=1,ascending=False).columns)"
      ],
      "metadata": {
        "id": "0hjHss0LSQFy"
      },
      "execution_count": 16,
      "outputs": []
    },
    {
      "cell_type": "code",
      "source": [
        "def get_user_recommendations(interaction,username):\n",
        "  similar_users=get_similar_users(interaction,username)\n",
        "  purchase_history=interaction[similar_users[0]]\n",
        "  purchased=list(purchase_history.loc[purchase_history==1].index)\n",
        "  purchased2=list(interaction.loc[interaction[username]==1,:].index)\n",
        "  recs=sorted(list(set(purchased) - set(purchased2)))\n",
        "  return(recs)"
      ],
      "metadata": {
        "id": "cTJLfIj9SXcR"
      },
      "execution_count": 17,
      "outputs": []
    },
    {
      "cell_type": "code",
      "source": [
        "get_user_recommendations(interaction,'user2')"
      ],
      "metadata": {
        "colab": {
          "base_uri": "https://localhost:8080/"
        },
        "id": "l5zUW4D1Sikg",
        "outputId": "59a1f7bb-0a8f-44f4-ade6-074f130051a5"
      },
      "execution_count": 18,
      "outputs": [
        {
          "output_type": "stream",
          "name": "stderr",
          "text": [
            "<ipython-input-16-e76a11898a65>:8: SettingWithCopyWarning: \n",
            "A value is trying to be set on a copy of a slice from a DataFrame\n",
            "\n",
            "See the caveats in the documentation: https://pandas.pydata.org/pandas-docs/stable/user_guide/indexing.html#returning-a-view-versus-a-copy\n",
            "  otherusers.loc['similarities',:]=similarities\n"
          ]
        },
        {
          "output_type": "execute_result",
          "data": {
            "text/plain": [
              "['item4']"
            ]
          },
          "metadata": {},
          "execution_count": 18
        }
      ]
    },
    {
      "cell_type": "code",
      "source": [
        "#Case Study: Music Recommendations\n",
        "import pandas as pd\n",
        "lastfm = pd.read_csv(\"https://bradfordtuckfield.com/lastfm-matrix-germany.csv\")\n",
        "print(lastfm.head())"
      ],
      "metadata": {
        "colab": {
          "base_uri": "https://localhost:8080/"
        },
        "id": "RsEVVHlbSoHM",
        "outputId": "51053c3b-95c0-48de-91b2-3870ff1e4cbc"
      },
      "execution_count": 19,
      "outputs": [
        {
          "output_type": "stream",
          "name": "stdout",
          "text": [
            "   user  a perfect circle  abba  ac/dc  adam green  aerosmith  afi  air  \\\n",
            "0     1                 0     0      0           0          0    0    0   \n",
            "1    33                 0     0      0           1          0    0    0   \n",
            "2    42                 0     0      0           0          0    0    0   \n",
            "3    51                 0     0      0           0          0    0    0   \n",
            "4    62                 0     0      0           0          0    0    0   \n",
            "\n",
            "   alanis morissette  alexisonfire  ...  timbaland  tom waits  tool  \\\n",
            "0                  0             0  ...          0          0     0   \n",
            "1                  0             0  ...          0          0     0   \n",
            "2                  0             0  ...          0          0     0   \n",
            "3                  0             0  ...          0          0     0   \n",
            "4                  0             0  ...          0          0     0   \n",
            "\n",
            "   tori amos  travis  trivium  u2  underoath  volbeat  yann tiersen  \n",
            "0          0       0        0   0          0        0             0  \n",
            "1          0       0        0   0          0        0             0  \n",
            "2          0       0        0   0          0        0             0  \n",
            "3          0       0        0   0          0        0             0  \n",
            "4          0       0        0   0          0        0             0  \n",
            "\n",
            "[5 rows x 286 columns]\n"
          ]
        }
      ]
    },
    {
      "cell_type": "code",
      "source": [
        "lastfm.drop(['user'],axis=1,inplace=True)"
      ],
      "metadata": {
        "id": "kNUKxoqiSwTr"
      },
      "execution_count": 20,
      "outputs": []
    },
    {
      "cell_type": "code",
      "source": [
        "lastfmt=lastfm.T"
      ],
      "metadata": {
        "id": "ZPLJWYJRSyds"
      },
      "execution_count": 21,
      "outputs": []
    },
    {
      "cell_type": "code",
      "source": [
        "print(lastfmt.shape)"
      ],
      "metadata": {
        "colab": {
          "base_uri": "https://localhost:8080/"
        },
        "id": "RPARfrJRS0JJ",
        "outputId": "89cc9f5b-1f43-4d91-ed07-da9950a8e360"
      },
      "execution_count": 22,
      "outputs": [
        {
          "output_type": "stream",
          "name": "stdout",
          "text": [
            "(285, 1257)\n"
          ]
        }
      ]
    },
    {
      "cell_type": "code",
      "source": [
        "get_item_recommendations(lastfmt,'abba')[0:10]"
      ],
      "metadata": {
        "colab": {
          "base_uri": "https://localhost:8080/"
        },
        "id": "SK9kF0MRS1p6",
        "outputId": "2cc5406c-44c8-4946-90b5-2de5bc7ab57f"
      },
      "execution_count": 23,
      "outputs": [
        {
          "output_type": "execute_result",
          "data": {
            "text/plain": [
              "['madonna',\n",
              " 'robbie williams',\n",
              " 'elvis presley',\n",
              " 'michael jackson',\n",
              " 'queen',\n",
              " 'the beatles',\n",
              " 'kelly clarkson',\n",
              " 'groove coverage',\n",
              " 'duffy',\n",
              " 'mika']"
            ]
          },
          "metadata": {},
          "execution_count": 23
        }
      ]
    },
    {
      "cell_type": "code",
      "source": [
        "print(get_user_recommendations(lastfmt,0)[0:3])"
      ],
      "metadata": {
        "colab": {
          "base_uri": "https://localhost:8080/"
        },
        "id": "ApdcrlpiS3ZU",
        "outputId": "ec725e33-7f0b-47d2-f909-f8e4e297ca0c"
      },
      "execution_count": 24,
      "outputs": [
        {
          "output_type": "stream",
          "name": "stderr",
          "text": [
            "<ipython-input-8-098bba26fa1a>:3: RuntimeWarning: invalid value encountered in scalar divide\n",
            "  thecosine=thedotproduct/(vector_norm(vector1)*vector_norm(vector2))\n"
          ]
        },
        {
          "output_type": "stream",
          "name": "stdout",
          "text": [
            "['billy talent', 'bob marley', 'die toten hosen']\n"
          ]
        },
        {
          "output_type": "stream",
          "name": "stderr",
          "text": [
            "<ipython-input-16-e76a11898a65>:8: SettingWithCopyWarning: \n",
            "A value is trying to be set on a copy of a slice from a DataFrame\n",
            "\n",
            "See the caveats in the documentation: https://pandas.pydata.org/pandas-docs/stable/user_guide/indexing.html#returning-a-view-versus-a-copy\n",
            "  otherusers.loc['similarities',:]=similarities\n"
          ]
        }
      ]
    },
    {
      "cell_type": "markdown",
      "source": [
        "Summary: I discussed recommendation systems, beginning with popularity-based models to illustrate how to suggest trending items and bestsellers. I then explored collaborative filtering, covering how to measure item and customer similarity and how to apply these measures to make item-based and user-based recommendations. I presented a case study using collaborative-filtering code to generate recommendations for a music-streaming service. I concluded with advanced considerations, such as alternative approaches and additional data sources that could enhance recommendations."
      ],
      "metadata": {
        "id": "kjdzBwHJTDTU"
      }
    }
  ]
}